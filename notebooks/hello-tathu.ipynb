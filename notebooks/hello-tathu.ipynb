{
  "cells": [
    {
      "cell_type": "markdown",
      "metadata": {
        "id": "jVKnu7kuOp2p"
      },
      "source": [
        "# **Instalação TATHU - Tracking and Analysis of Thunderstorms**\n",
        "\n",
        "![https://github.com/uba/tathu](https://raw.githubusercontent.com/uba/tathu/master/docs/sphinx/img/logo-tathu.png)\n",
        "\n"
      ]
    },
    {
      "cell_type": "markdown",
      "metadata": {
        "id": "xXLbPJjdOceh"
      },
      "source": [
        "O código abaixo instala o pacote **condacolab** e reinicia o ambiente automaticamente. \n",
        "\n",
        "Nota: não é necessário rodar esse bloco novamente."
      ]
    },
    {
      "cell_type": "code",
      "execution_count": null,
      "metadata": {
        "id": "3O7Jh7sVLMcS"
      },
      "outputs": [],
      "source": [
        "!pip install -q condacolab\n",
        "import condacolab\n",
        "condacolab.install()"
      ]
    },
    {
      "cell_type": "markdown",
      "metadata": {
        "id": "M7fLB7AgPLIu"
      },
      "source": [
        " Instalação dos pacotes necessários:"
      ]
    },
    {
      "cell_type": "code",
      "execution_count": null,
      "metadata": {
        "id": "LM-GYguGLiC7"
      },
      "outputs": [],
      "source": [
        "!conda config --add channels conda-forge\n",
        "!conda config --set channel_priority strict\n",
        "!mamba install -c conda-forge aenum cartopy geopandas netcdf4 opencv pathos psycopg2 pyproj rasterstats requests rtree s3fs scikit-image scipy tqdm\n",
        "!pip install pyyaml==5.4.1"
      ]
    },
    {
      "cell_type": "markdown",
      "metadata": {
        "id": "dpVYsIaGPfbp"
      },
      "source": [
        "Instalação do TATHU a partir do repositório oficial:"
      ]
    },
    {
      "cell_type": "code",
      "execution_count": null,
      "metadata": {
        "id": "LmjGGR1OManz"
      },
      "outputs": [],
      "source": [
        "!git clone https://github.com/uba/tathu.git"
      ]
    },
    {
      "cell_type": "code",
      "execution_count": null,
      "metadata": {
        "id": "c8QKDiREMeBB"
      },
      "outputs": [],
      "source": [
        "%cd tathu/\n",
        "!python -m pip install --no-deps ."
      ]
    },
    {
      "cell_type": "markdown",
      "metadata": {
        "id": "jBiHLnVgPp0y"
      },
      "source": [
        "Verificando a instalação:"
      ]
    },
    {
      "cell_type": "code",
      "execution_count": null,
      "metadata": {
        "id": "aNQ0p_fyMgah"
      },
      "outputs": [],
      "source": [
        "import tathu\n",
        "print('Version', tathu.__version__)\n",
        "\n",
        "from tathu.logo import TATHU_BANNER\n",
        "print(TATHU_BANNER)"
      ]
    }
  ],
  "metadata": {
    "colab": {
      "private_outputs": true,
      "provenance": []
    },
    "kernelspec": {
      "display_name": "Python 3",
      "name": "python3"
    },
    "language_info": {
      "name": "python"
    }
  },
  "nbformat": 4,
  "nbformat_minor": 0
}
