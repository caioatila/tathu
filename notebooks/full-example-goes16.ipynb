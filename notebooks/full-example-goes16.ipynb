{
  "cells": [
    {
      "cell_type": "markdown",
      "metadata": {
        "id": "view-in-github",
        "colab_type": "text"
      },
      "source": [
        "<a href=\"https://colab.research.google.com/github/uba/tathu/blob/master/notebooks/full-example-goes16.ipynb\" target=\"_parent\"><img src=\"https://colab.research.google.com/assets/colab-badge.svg\" alt=\"Open In Colab\"/></a>"
      ]
    },
    {
      "cell_type": "markdown",
      "source": [
        "# **Instalação TATHU - Tracking and Analysis of Thunderstorms**\n",
        "\n",
        "Autor: Douglas Uba - douglas.uba@inpe.br\n",
        "\n",
        "![https://github.com/uba/tathu](https://raw.githubusercontent.com/uba/tathu/master/docs/sphinx/img/logo-tathu.png)\n",
        "\n"
      ],
      "metadata": {
        "id": "v6oRZ0Mq6IzY"
      }
    },
    {
      "cell_type": "markdown",
      "source": [
        "Primeiro, instalamos o pacote TATHU e as dependências necessárias para a sua execução. \n",
        "\n",
        "Mais detalhes do processo de instalação podem ser vistos no notebook: [Instalação do TATHU e suas dependências.](https://github.com/uba/tathu/blob/master/notebooks/tathu-install.ipynb)"
      ],
      "metadata": {
        "id": "SG5gu5bE0d64"
      }
    },
    {
      "cell_type": "code",
      "source": [
        "!wget https://raw.githubusercontent.com/uba/tathu/master/notebooks/tathu-install.ipynb -O tathu-install.ipynb\n",
        "%run tathu-install.ipynb"
      ],
      "metadata": {
        "id": "zYiqvYwL3E3b"
      },
      "execution_count": null,
      "outputs": []
    },
    {
      "cell_type": "markdown",
      "metadata": {
        "id": "eUBWW5Dnptkd"
      },
      "source": [
        "# **Obtenção dos Dados** "
      ]
    },
    {
      "cell_type": "markdown",
      "source": [
        "### **Download de Imagens GOES-16**\n",
        "\n",
        "Utilizando o suporte fornecido pelo TATHU, vamos realizar o download de um conjunto de imagens obtidas pelo satélite GOES-16. Mais especificamente, imagens do dia 26 de Outubro de 2022, canal 13 em 10,35 µm, horas [0-6] UTC, do setor *full-disk*. Essas imagens serão utilizadas para a detecção e rastreio dos objetos de interesse, os **Sistemas Convectivos (SC)**."
      ],
      "metadata": {
        "id": "b4rJ1pEB1tf3"
      }
    },
    {
      "cell_type": "code",
      "execution_count": null,
      "metadata": {
        "id": "4-alRP6Vp7zw"
      },
      "outputs": [],
      "source": [
        "from datetime import datetime\n",
        "from tathu.downloader.goes import AWS\n",
        "from tathu.progress import TqdmProgress\n",
        "\n",
        "# Download 26 October 2022, Channel 13, [00, 01, 02, 03, 04, 05, 06] hours UTC\n",
        "start = end = datetime.strptime('20221026', '%Y%m%d')\n",
        "hours = ['00', '01', '02', '03', '04', '05', '06']\n",
        "\n",
        "# From AWS (full-disk)\n",
        "AWS.download(AWS.buckets['GOES-16'], ['ABI-L2-CMIPF'],\n",
        "    start, end, hours, ['13'], './goes16-aws',\n",
        "    progress=TqdmProgress('Download GOES-16 data (AWS)', 'files'))"
      ]
    },
    {
      "cell_type": "markdown",
      "source": [
        "### Verificando a Lista de Arquivos Obtidos\n",
        "\n",
        "Os dados foram baixados. Vamos realizar uma busca no sistema de arquivos com o objetivo de definir uma lista de imagens que serão utilizados nos processos de detecção e rastreio. São arquivos do tipo netCDF, que possuem os valores medidos pelo sensor ABI a bordo do satélite GOES-16.\n",
        "\n"
      ],
      "metadata": {
        "id": "DgS-142KDxr9"
      }
    },
    {
      "cell_type": "code",
      "source": [
        "import glob\n",
        "\n",
        "# List download files\n",
        "files = sorted(glob.glob(\"./goes16-aws/noaa-goes16/ABI-L2-CMIPF/2022/*/*/*.nc\"))\n",
        "for f in files:\n",
        "  print(f)"
      ],
      "metadata": {
        "id": "FItIWLVYDW0u"
      },
      "execution_count": null,
      "outputs": []
    },
    {
      "cell_type": "markdown",
      "metadata": {
        "id": "SafNSUNKrwij"
      },
      "source": [
        "### **Visualização Full-Disk**\n",
        "\n",
        "Para exemplificar do tipo de dado que estamos trabalhando, vamos visualizar a imagem do dia 26 de Outubro de 2022, 00:00 UTC. Tratam-se de imagens no infravermelho termal, posicionado em uma região de janela atmosférica, em 10,35 µm. O setor *full-disk* refere-se ao imageamento de um Polo a outro da Terra, dentro dos limites de longitude estabelecidos pela posição do satélite geoestacionário."
      ]
    },
    {
      "cell_type": "code",
      "execution_count": null,
      "metadata": {
        "id": "XH-E1dgXr3Wk"
      },
      "outputs": [],
      "source": [
        "import matplotlib.pyplot as plt\n",
        "from netCDF4 import Dataset\n",
        "\n",
        "# Visualize first file\n",
        "path = files[0]\n",
        "\n",
        "# Open netCDF file and show full-disk data\n",
        "nc = Dataset(path)\n",
        "data = nc.variables['CMI'][:]\n",
        "plt.imshow(data, cmap='Greys', vmin=180.0, vmax=320.0)\n",
        "plt.colorbar()\n",
        "nc.close()"
      ]
    },
    {
      "cell_type": "markdown",
      "metadata": {
        "id": "Kq3mFqaIs0Px"
      },
      "source": [
        "### **Remapeamento para Grade Regular**\n",
        "\n",
        "Para o processo de detecção e rastreio, precisamos remapear o dado  *full-disk* para uma grade regular. Essa operação pode ser realizada a partir do suporte fornecido pelo TATHU. Precisamos fornecer a região geográfica desejada e a resolução espacial que iremos trabalhar (em quilômetros). Aqui, fazemos o remapeamento do dado para a região geográfica que compreende a América do Sul, na resolução de 2 km."
      ]
    },
    {
      "cell_type": "code",
      "execution_count": null,
      "metadata": {
        "id": "ihWu7nAWtYzA"
      },
      "outputs": [],
      "source": [
        "from osgeo import gdal\n",
        "\n",
        "from tathu.constants import LAT_LONG_WGS84_SOUTH_AMERICA_EXTENT, LAT_LON_WGS84\n",
        "from tathu.satellite import goes16\n",
        "\n",
        "# Geographic area of regular grid [llx, lly, urx, ury], where ll=lower-left, ur=upper-right\n",
        "extent = [-88.02, -46.50, -26.22, 12.54]\n",
        "\n",
        " # Grid resolution (kilometers)\n",
        "resolution = 2.0\n",
        "\n",
        "print('Remapping')\n",
        "grid = goes16.sat2grid(path, extent, resolution, LAT_LON_WGS84, 'HDF5', progress=gdal.TermProgress_nocb)\n",
        "\n",
        "# Visualize regular grid result\n",
        "from tathu.visualizer import MapView\n",
        "\n",
        "m = MapView(extent)\n",
        "m.plotImage(grid, cmap='Greys', vmin=180.0, vmax=320.0)\n",
        "m.show()\n"
      ]
    },
    {
      "cell_type": "markdown",
      "metadata": {
        "id": "_O2I2j-yuYt8"
      },
      "source": [
        "# **Detecção, Caracterização e Rastreio dos Sistemas Convectivos**"
      ]
    },
    {
      "cell_type": "markdown",
      "source": [
        "### Detecção Utilizando Limiarização\n",
        "\n",
        "Vamos agora realizar a **detecção** dos SC utilizando um processo de limiarização, implementado na classe `detector.LessThan`.\n",
        "\n",
        "Definimos alguns parâmetros de configuração, incluindo:\n",
        "\n",
        "* `threshold` - Valor o máximo de temperatura de brilho (235K);\n",
        "* `minarea` - Área mínima de detecção (3000km2) para cada SC."
      ],
      "metadata": {
        "id": "nBgRfdhZEW2V"
      }
    },
    {
      "cell_type": "code",
      "execution_count": null,
      "metadata": {
        "id": "u7lEmVOductg"
      },
      "outputs": [],
      "source": [
        "from tathu.tracking.utils import area2degrees\n",
        "\n",
        "# Threshold value\n",
        "threshold = 235 # Kelvin\n",
        "    \n",
        "# Define minimum area\n",
        "minarea = 3000 # km^2\n",
        "\n",
        "# Convert to degrees^2\n",
        "minarea = area2degrees(minarea)"
      ]
    },
    {
      "cell_type": "markdown",
      "source": [
        "Realizamos o processo de deteção a partir da classe `detector.LessThan`:"
      ],
      "metadata": {
        "id": "HtCMColxEEP8"
      }
    },
    {
      "cell_type": "code",
      "execution_count": null,
      "metadata": {
        "id": "pcBIMOWBvYYN"
      },
      "outputs": [],
      "source": [
        "from tathu.tracking import detectors\n",
        "\n",
        "# Create detector\n",
        "detector = detectors.LessThan(threshold, minarea)\n",
        "\n",
        "# Searching for systems\n",
        "print('Searching for systems...')\n",
        "systems = detector.detect(grid)\n",
        "print('# Number of detected systems:', len(systems))"
      ]
    },
    {
      "cell_type": "markdown",
      "metadata": {
        "id": "tgWwATPFv_B3"
      },
      "source": [
        "Os limites geográficos de cada SC detectado (em vermelho) podem ser visualizados a partir do seguinte trecho de código:\n"
      ]
    },
    {
      "cell_type": "code",
      "execution_count": null,
      "metadata": {
        "id": "RZRY1xZMwCrT"
      },
      "outputs": [],
      "source": [
        "m = MapView(extent)\n",
        "m.plotImage(grid, cmap='Greys', vmin=180.0, vmax=320.0)\n",
        "m.plotSystems(systems, facecolor='none', edgecolor='red', centroids=False)\n",
        "m.show()"
      ]
    },
    {
      "cell_type": "markdown",
      "metadata": {
        "id": "gY1CXYfVw5is"
      },
      "source": [
        "### **Extração de Atributos**"
      ]
    },
    {
      "cell_type": "markdown",
      "metadata": {
        "id": "s6itgA_fxDuh"
      },
      "source": [
        "Uma vez definidos os limites geográficos de cada SC, podemos extrair uma série de atributos para cada objeto de interesse. \n",
        "\n",
        "Neste caso, pode-se considerar atributos espectrais (medidas de\n",
        "um sensor em diferentes canais), análises estatísticas (média, variância,\n",
        "etc) e de forma (tamanho, orientação, retangularidade), entre outros.\n",
        "\n",
        "Neste exemplo, vamos extrair atributos estatísticos para cada SC, incluindo valor mínimo, média e desvio padrão de temperatura de brilho, além do número de pixels que compõe determinado sistema - `attrs = ['min', 'mean', 'std', 'count']`.\n",
        "\n",
        "Essa operação é realizada pela classe `descriptors.StatisticalDescriptor`.\n",
        "\n"
      ]
    },
    {
      "cell_type": "code",
      "execution_count": null,
      "metadata": {
        "id": "1nxLq5KRx0WK"
      },
      "outputs": [],
      "source": [
        "# Attributes that will be computed\n",
        "attrs = ['min', 'mean', 'std', 'count']\n",
        "\n",
        "# Silence some warnings in order to improve visualization\n",
        "import warnings\n",
        "from shapely.errors import ShapelyDeprecationWarning\n",
        "warnings.filterwarnings('ignore', category=ShapelyDeprecationWarning) \n",
        "\n",
        "from tathu.tracking import descriptors\n",
        "\n",
        "# Create statistical descriptor\n",
        "descriptor = descriptors.StatisticalDescriptor(rasterOut=True)\n",
        "\n",
        "# Describe systems (stats)\n",
        "descriptor.describe(grid, systems)\n",
        "\n",
        "# Visualize attributes\n",
        "for s in systems:\n",
        "  print(s.name, s.attrs)"
      ]
    },
    {
      "cell_type": "markdown",
      "metadata": {
        "id": "l8o_BlDlHIH5"
      },
      "source": [
        "### **Função para Detecção e Extração de Atributos**\n",
        "\n",
        "Compreendidos os conceitos de remapeamento, deteção e extração de atributos (i.e. caracterização), vamos agora definir uma função auxiliar em Python para realizar essas operações dado um caminho de arquivo - `path`.\n",
        "\n",
        "Chamaremos a função de `detect`, definida a seguir. A função retorna ao final uma lista de objetos que representam cada SC.\n",
        "\n"
      ]
    },
    {
      "cell_type": "code",
      "source": [
        "from tathu.utils import file2timestamp\n",
        "\n",
        "def detect(path):\n",
        "  # Extract time from file-name\n",
        "  timestamp = file2timestamp(path, regex=goes16.DATE_REGEX, format=goes16.DATE_FORMAT).replace(microsecond=0)\n",
        "\n",
        "  print('Processing', timestamp)\n",
        "\n",
        "  # Remap data\n",
        "  grid = goes16.sat2grid(path, extent, resolution, LAT_LON_WGS84, 'HDF5', progress=gdal.TermProgress_nocb)\n",
        "\n",
        "  # Create detector\n",
        "  detector = detectors.LessThan(threshold, minarea)\n",
        "\n",
        "  # Searching for systems\n",
        "  print('Searching for systems...')\n",
        "  systems = detector.detect(grid)\n",
        "  print('# Number of detected systems:', len(systems))\n",
        "\n",
        "  # Adjust timestamp for each system\n",
        "  for s in systems:\n",
        "    s.timestamp = timestamp\n",
        "\n",
        "  # Create statistical descriptor\n",
        "  descriptor = descriptors.StatisticalDescriptor(rasterOut=True)\n",
        "\n",
        "  # Describe systems (stats)\n",
        "  descriptor.describe(grid, systems)\n",
        "\n",
        "  # Free resources\n",
        "  grid = None\n",
        "\n",
        "  return systems"
      ],
      "metadata": {
        "id": "Sy_wSmiDH_iB"
      },
      "execution_count": null,
      "outputs": []
    },
    {
      "cell_type": "markdown",
      "source": [
        "Agora podemos utilizar essa função de modo prático para cada arquivo de imagem.\n",
        "\n",
        "Por exemplo, para a primeira imagem da lista temos:"
      ],
      "metadata": {
        "id": "ZZ6hSajkIxfp"
      }
    },
    {
      "cell_type": "code",
      "source": [
        "systems = detect(files[0])"
      ],
      "metadata": {
        "id": "39BhyqiHJBSG"
      },
      "execution_count": null,
      "outputs": []
    },
    {
      "cell_type": "markdown",
      "source": [
        "## **Rastreio Utilizando Sobreposição de Áreas**\n",
        "\n",
        "Definida a função `detect` capaz de detectar e extrair os atributos dos SC para cada instante de tempo, vamos agora tratar da **associação** desses elementos no tempo (i.e. **acompanhamento**, **rastreio automático**).\n",
        "\n",
        "A etapa de rastreio é determinar como os objetos de interesse se comportaram no intervalo de tempo ∆t, decorrido\n",
        "entre as duas imagens. Nessa etapa, os processos de detecção e caracterização também são utilizados. Em síntese, o acompanhamento deve ser capaz de determinar quais objetos da observação anterior ainda estão presentes no instante t (associação), além de também identificar novos objetos que surgiram.\n",
        "\n",
        "Como exemplo, o rastreio pode ser realizado a partir da relação topológica entre os SC em conjunto com a análise das áreas de interseção.\n",
        "\n",
        "![https://tathu.readthedocs.io/en/latest/split.merge.html](https://raw.githubusercontent.com/uba/tathu/master/docs/sphinx/img/system-events.png)\n",
        "\n",
        "Situações consideradas durante o acompanhamento dos SC a partir do critério de interseção de área mínima: (a) continuidade, (b) split e (c) merge. As linhas tracejadas representam os sistemas no instante t−∆t.\n",
        "\n",
        "Vamos utilizar o suporte fornecido pelo TATHU para realizar o rastreio considerando imagens de dois instantes de tempo distintos e consecutivos: 00:00 UTC e 00:10 UTC. Vamos utilizar a classe `tracker.OverlapAreaTracker`. Uma sobreposição de pelo menos 10% da área é necessária para associar os SC como sendo o mesmo elemento.\n",
        "\n"
      ],
      "metadata": {
        "id": "OUfvvsUVKxDN"
      }
    },
    {
      "cell_type": "code",
      "source": [
        "from tathu.tracking import trackers\n",
        "\n",
        "# Define overlap area criterion\n",
        "overlapAreaCriterion = 0.1 # 10%\n",
        "\n",
        "systems_00_00_UTC = detect(files[0]) # previous\n",
        "systems_00_10_UTC = detect(files[1]) # current\n",
        "\n",
        "# Create overlap area strategy\n",
        "strategy = trackers.RelativeOverlapAreaStrategy(overlapAreaCriterion)\n",
        "\n",
        "#  Let's track!\n",
        "print('Tracking...')\n",
        "t = trackers.OverlapAreaTracker(systems_00_00_UTC, strategy=strategy)\n",
        "t.track(systems_00_10_UTC)\n",
        "print('done!')\n",
        "\n",
        "# Let's see the defined relations for each current system \n",
        "for system in systems_00_10_UTC:\n",
        "  print(system.event)\n"
      ],
      "metadata": {
        "id": "N9qTiS_8QeGH"
      },
      "execution_count": null,
      "outputs": []
    },
    {
      "cell_type": "markdown",
      "source": [
        "De modo mais geral, podemos realizar o rastreio considerando todo o conjunto de imagens:\n"
      ],
      "metadata": {
        "id": "1yXe-mm7RNI1"
      }
    },
    {
      "cell_type": "code",
      "source": [
        "from tathu.tracking import trackers\n",
        "\n",
        "# Prepare tracking...\n",
        "previous = None\n",
        "\n",
        "# Define overlap area criterion\n",
        "overlapAreaCriterion = 0.1 # 10%\n",
        "\n",
        "# Create overlap area strategy\n",
        "strategy = trackers.RelativeOverlapAreaStrategy(overlapAreaCriterion)\n",
        "\n",
        "# for each image file\n",
        "for f in files:\n",
        "  # Detect current systems\n",
        "  current = detect(f)\n",
        "\n",
        "  if previous is None:\n",
        "    previous = current\n",
        "    continue\n",
        "\n",
        "  # Let's track!\n",
        "  print('Tracking...')\n",
        "  t = trackers.OverlapAreaTracker(previous, strategy=strategy)\n",
        "  t.track(current)\n",
        "  print('done!')\n",
        "\n",
        "  # Prepare next iteration\n",
        "  previous = current"
      ],
      "metadata": {
        "id": "R9R2GBAmLHne"
      },
      "execution_count": null,
      "outputs": []
    }
  ],
  "metadata": {
    "colab": {
      "private_outputs": true,
      "provenance": [],
      "toc_visible": true,
      "include_colab_link": true
    },
    "kernelspec": {
      "display_name": "env-tathu",
      "language": "python",
      "name": "python3"
    },
    "language_info": {
      "name": "python",
      "version": "3.10.5 | packaged by conda-forge | (main, Jun 14 2022, 06:57:19) [MSC v.1929 64 bit (AMD64)]"
    },
    "vscode": {
      "interpreter": {
        "hash": "a4df6fb41f4f12cdafb21ca4516cea769b5115ff19d694397fc74b9938a69f7a"
      }
    }
  },
  "nbformat": 4,
  "nbformat_minor": 0
}