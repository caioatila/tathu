{
  "cells": [
    {
      "cell_type": "markdown",
      "metadata": {
        "id": "view-in-github",
        "colab_type": "text"
      },
      "source": [
        "<a href=\"https://colab.research.google.com/github/uba/tathu/blob/master/notebooks/full-example-goes16.ipynb\" target=\"_parent\"><img src=\"https://colab.research.google.com/assets/colab-badge.svg\" alt=\"Open In Colab\"/></a>"
      ]
    },
    {
      "cell_type": "markdown",
      "source": [
        "Autores:\n",
        "*   [Douglas Uba](https://github.com/uba) - douglas.uba@inpe.br\n",
        "*   [Camila Lopes](https://github.com/cclopes) - camila.lopes@iag.usp.br\n",
        "\n"
      ],
      "metadata": {
        "id": "viBApuy7skDb"
      }
    },
    {
      "cell_type": "markdown",
      "source": [
        "# **Instalação TATHU - Tracking and Analysis of Thunderstorms**\n",
        "\n",
        "![https://github.com/uba/tathu](https://raw.githubusercontent.com/uba/tathu/master/docs/sphinx/img/logo-tathu.png)"
      ],
      "metadata": {
        "id": "v6oRZ0Mq6IzY"
      }
    },
    {
      "cell_type": "markdown",
      "source": [
        "Primeiro, instalamos o pacote TATHU e as dependências necessárias para a sua execução. \n",
        "\n",
        "Mais detalhes do processo de instalação podem ser vistos no notebook: [Instalação do TATHU e suas dependências.](https://github.com/uba/tathu/blob/master/notebooks/tathu-install.ipynb)"
      ],
      "metadata": {
        "id": "SG5gu5bE0d64"
      }
    },
    {
      "cell_type": "code",
      "source": [
        "!wget https://raw.githubusercontent.com/uba/tathu/master/notebooks/tathu-install.ipynb -O tathu-install.ipynb\n",
        "%run tathu-install.ipynb"
      ],
      "metadata": {
        "id": "zYiqvYwL3E3b"
      },
      "execution_count": null,
      "outputs": []
    },
    {
      "cell_type": "markdown",
      "metadata": {
        "id": "eUBWW5Dnptkd"
      },
      "source": [
        "# **Obtenção dos Dados** "
      ]
    },
    {
      "cell_type": "markdown",
      "source": [
        "### **Download de Imagens GOES-16**\n",
        "\n",
        "Utilizando o suporte fornecido pelo TATHU, vamos realizar o download de um conjunto de imagens obtidas pelo satélite GOES-16. Mais especificamente, imagens do dia 26 de Outubro de 2022, canal 13 em 10,35 µm, horas [0-6] UTC, do setor *full-disk*. Essas imagens serão utilizadas para a detecção e rastreio dos objetos de interesse, os **Sistemas Convectivos (SC)**."
      ],
      "metadata": {
        "id": "b4rJ1pEB1tf3"
      }
    },
    {
      "cell_type": "code",
      "execution_count": null,
      "metadata": {
        "id": "4-alRP6Vp7zw"
      },
      "outputs": [],
      "source": [
        "from datetime import datetime\n",
        "from tathu.downloader.goes import AWS\n",
        "from tathu.progress import TqdmProgress\n",
        "\n",
        "# Download 26 October 2022, Channel 13, [00, 01, 02, 03, 04, 05, 06] hours UTC\n",
        "start = end = datetime.strptime('20221026', '%Y%m%d')\n",
        "hours = ['00', '01', '02', '03', '04', '05', '06']\n",
        "\n",
        "# From AWS (full-disk)\n",
        "AWS.download(AWS.buckets['GOES-16'], ['ABI-L2-CMIPF'],\n",
        "    start, end, hours, ['13'], './goes16-aws',\n",
        "    progress=TqdmProgress('Download GOES-16 data (AWS)', 'files'))"
      ]
    },
    {
      "cell_type": "markdown",
      "source": [
        "### Verificando a Lista de Arquivos Obtidos\n",
        "\n",
        "Os dados foram baixados. Vamos realizar uma busca no sistema de arquivos com o objetivo de definir uma lista de imagens que serão utilizados nos processos de detecção e rastreio. São arquivos do tipo netCDF, que possuem os valores medidos pelo sensor ABI a bordo do satélite GOES-16.\n",
        "\n"
      ],
      "metadata": {
        "id": "DgS-142KDxr9"
      }
    },
    {
      "cell_type": "code",
      "source": [
        "import glob\n",
        "\n",
        "# List download files\n",
        "files = sorted(glob.glob(\"./goes16-aws/noaa-goes16/ABI-L2-CMIPF/2022/*/*/*.nc\"))\n",
        "for f in files:\n",
        "  print(f)"
      ],
      "metadata": {
        "id": "FItIWLVYDW0u"
      },
      "execution_count": null,
      "outputs": []
    },
    {
      "cell_type": "markdown",
      "metadata": {
        "id": "SafNSUNKrwij"
      },
      "source": [
        "### **Visualização Full-Disk**\n",
        "\n",
        "Para exemplificar o tipo de dado que estamos trabalhando, vamos visualizar a imagem do dia 26 de Outubro de 2022, 00:00 UTC. Tratam-se de imagens no infravermelho termal, posicionado em uma região de janela atmosférica, em 10,35 µm. O setor *full-disk* refere-se ao imageamento de um Polo a outro da Terra, dentro dos limites de longitude estabelecidos pela posição do satélite geoestacionário."
      ]
    },
    {
      "cell_type": "code",
      "execution_count": null,
      "metadata": {
        "id": "XH-E1dgXr3Wk"
      },
      "outputs": [],
      "source": [
        "import matplotlib.pyplot as plt\n",
        "from netCDF4 import Dataset\n",
        "\n",
        "# Visualize first file\n",
        "path = files[0]\n",
        "\n",
        "# Open netCDF file and show full-disk data\n",
        "nc = Dataset(path)\n",
        "data = nc.variables['CMI'][:]\n",
        "plt.imshow(data, cmap='Greys', vmin=180.0, vmax=320.0)\n",
        "plt.colorbar()\n",
        "nc.close()"
      ]
    },
    {
      "cell_type": "markdown",
      "metadata": {
        "id": "Kq3mFqaIs0Px"
      },
      "source": [
        "### **Remapeamento para Grade Regular**\n",
        "\n",
        "Para o processo de detecção e rastreio, precisamos remapear o dado  *full-disk* para uma grade regular. Essa operação pode ser realizada a partir do suporte fornecido pelo TATHU. Precisamos fornecer a região geográfica desejada e a resolução espacial que iremos trabalhar (em quilômetros). Aqui, fazemos o remapeamento do dado para a região geográfica que compreende a América do Sul, na resolução de 2 km."
      ]
    },
    {
      "cell_type": "code",
      "execution_count": null,
      "metadata": {
        "id": "ihWu7nAWtYzA"
      },
      "outputs": [],
      "source": [
        "from osgeo import gdal\n",
        "\n",
        "from tathu.constants import LAT_LONG_WGS84_SOUTH_AMERICA_EXTENT, LAT_LON_WGS84\n",
        "from tathu.satellite import goes16\n",
        "\n",
        "# Geographic area of regular grid [llx, lly, urx, ury], where ll=lower-left, ur=upper-right\n",
        "extent = [-88.02, -46.50, -26.22, 12.54]\n",
        "\n",
        " # Grid resolution (kilometers)\n",
        "resolution = 2.0\n",
        "\n",
        "print('Remapping')\n",
        "grid = goes16.sat2grid(path, extent, resolution, LAT_LON_WGS84, 'HDF5', progress=gdal.TermProgress_nocb)\n",
        "\n",
        "# Visualize regular grid result\n",
        "from tathu.visualizer import MapView\n",
        "\n",
        "m = MapView(extent)\n",
        "m.plotImage(grid, cmap='Greys', vmin=180.0, vmax=320.0)\n",
        "m.show()\n"
      ]
    },
    {
      "cell_type": "markdown",
      "metadata": {
        "id": "_O2I2j-yuYt8"
      },
      "source": [
        "# **Detecção, Caracterização e Rastreio dos Sistemas Convectivos**"
      ]
    },
    {
      "cell_type": "markdown",
      "source": [
        "### Detecção Utilizando Limiarização\n",
        "\n",
        "Vamos agora realizar a **detecção** dos SC utilizando um processo de limiarização, implementado na classe `detector.LessThan`.\n",
        "\n",
        "Definimos alguns parâmetros de configuração, incluindo:\n",
        "\n",
        "* `threshold` - Valor o máximo de temperatura de brilho (235K);\n",
        "* `minarea` - Área mínima de detecção (3000km2) para cada SC."
      ],
      "metadata": {
        "id": "nBgRfdhZEW2V"
      }
    },
    {
      "cell_type": "code",
      "execution_count": null,
      "metadata": {
        "id": "u7lEmVOductg"
      },
      "outputs": [],
      "source": [
        "from tathu.tracking.utils import area2degrees\n",
        "\n",
        "# Threshold value\n",
        "threshold = 235 # Kelvin\n",
        "    \n",
        "# Define minimum area\n",
        "minarea = 3000 # km^2\n",
        "\n",
        "# Convert to degrees^2\n",
        "minarea = area2degrees(minarea)"
      ]
    },
    {
      "cell_type": "markdown",
      "source": [
        "Realizamos o processo de deteção a partir da classe `detector.LessThan`:"
      ],
      "metadata": {
        "id": "HtCMColxEEP8"
      }
    },
    {
      "cell_type": "code",
      "execution_count": null,
      "metadata": {
        "id": "pcBIMOWBvYYN"
      },
      "outputs": [],
      "source": [
        "from tathu.tracking import detectors\n",
        "\n",
        "# Create detector\n",
        "detector = detectors.LessThan(threshold, minarea)\n",
        "\n",
        "# Searching for systems\n",
        "print('Searching for systems...')\n",
        "systems = detector.detect(grid)\n",
        "print('# Number of detected systems:', len(systems))"
      ]
    },
    {
      "cell_type": "markdown",
      "metadata": {
        "id": "tgWwATPFv_B3"
      },
      "source": [
        "Os limites geográficos de cada SC detectado (em vermelho) podem ser visualizados a partir do seguinte trecho de código:\n"
      ]
    },
    {
      "cell_type": "code",
      "execution_count": null,
      "metadata": {
        "id": "RZRY1xZMwCrT"
      },
      "outputs": [],
      "source": [
        "m = MapView(extent)\n",
        "m.plotImage(grid, cmap='Greys', vmin=180.0, vmax=320.0)\n",
        "m.plotSystems(systems, facecolor='none', edgecolor='red', centroids=False)\n",
        "m.show()"
      ]
    },
    {
      "cell_type": "markdown",
      "metadata": {
        "id": "gY1CXYfVw5is"
      },
      "source": [
        "### **Extração de Atributos**"
      ]
    },
    {
      "cell_type": "markdown",
      "metadata": {
        "id": "s6itgA_fxDuh"
      },
      "source": [
        "Uma vez definidos os limites geográficos de cada SC, podemos extrair uma série de atributos para cada objeto de interesse. \n",
        "\n",
        "Neste caso, pode-se considerar atributos espectrais (medidas de\n",
        "um sensor em diferentes canais), análises estatísticas (média, variância,\n",
        "etc) e de forma (tamanho, orientação, retangularidade), entre outros.\n",
        "\n",
        "Neste exemplo, vamos extrair atributos estatísticos para cada SC, incluindo valor mínimo, média e desvio padrão de temperatura de brilho, além do número de pixels que compõe determinado sistema - `attrs = ['min', 'mean', 'std', 'count']`.\n",
        "\n",
        "Essa operação é realizada pela classe `descriptors.StatisticalDescriptor`.\n",
        "\n"
      ]
    },
    {
      "cell_type": "code",
      "execution_count": null,
      "metadata": {
        "id": "1nxLq5KRx0WK"
      },
      "outputs": [],
      "source": [
        "# Attributes that will be computed\n",
        "attrs = ['min', 'mean', 'std', 'count']\n",
        "\n",
        "# Silence some warnings in order to improve visualization\n",
        "import warnings\n",
        "from shapely.errors import ShapelyDeprecationWarning\n",
        "warnings.filterwarnings('ignore', category=ShapelyDeprecationWarning) \n",
        "\n",
        "from tathu.tracking import descriptors\n",
        "\n",
        "# Create statistical descriptor\n",
        "descriptor = descriptors.StatisticalDescriptor(rasterOut=True)\n",
        "\n",
        "# Describe systems (stats)\n",
        "descriptor.describe(grid, systems)\n",
        "\n",
        "# Visualize attributes\n",
        "for s in systems:\n",
        "  print(s.name, s.attrs)"
      ]
    },
    {
      "cell_type": "markdown",
      "metadata": {
        "id": "l8o_BlDlHIH5"
      },
      "source": [
        "### **Função para Detecção e Extração de Atributos**\n",
        "\n",
        "Compreendidos os conceitos de remapeamento, deteção e extração de atributos (i.e. caracterização), vamos agora definir uma função auxiliar em Python para realizar essas operações dado um caminho de arquivo - `path`.\n",
        "\n",
        "Chamaremos a função de `detect`, definida a seguir. A função retorna ao final uma lista de objetos que representam cada SC.\n",
        "\n"
      ]
    },
    {
      "cell_type": "code",
      "source": [
        "from tathu.utils import file2timestamp\n",
        "\n",
        "def detect(path):\n",
        "  # Extract time from file-name\n",
        "  timestamp = file2timestamp(path, regex=goes16.DATE_REGEX, format=goes16.DATE_FORMAT).replace(microsecond=0)\n",
        "\n",
        "  print('Processing', timestamp)\n",
        "\n",
        "  # Remap data\n",
        "  grid = goes16.sat2grid(path, extent, resolution, LAT_LON_WGS84, 'HDF5', progress=gdal.TermProgress_nocb)\n",
        "\n",
        "  # Create detector\n",
        "  detector = detectors.LessThan(threshold, minarea)\n",
        "\n",
        "  # Searching for systems\n",
        "  print('Searching for systems...')\n",
        "  systems = detector.detect(grid)\n",
        "  print('# Number of detected systems:', len(systems))\n",
        "\n",
        "  # Adjust timestamp for each system\n",
        "  for s in systems:\n",
        "    s.timestamp = timestamp\n",
        "\n",
        "  # Create statistical descriptor\n",
        "  descriptor = descriptors.StatisticalDescriptor(rasterOut=True)\n",
        "\n",
        "  # Describe systems (stats)\n",
        "  descriptor.describe(grid, systems)\n",
        "\n",
        "  # Free resources\n",
        "  grid = None\n",
        "\n",
        "  return systems"
      ],
      "metadata": {
        "id": "Sy_wSmiDH_iB"
      },
      "execution_count": null,
      "outputs": []
    },
    {
      "cell_type": "markdown",
      "source": [
        "Agora podemos utilizar essa função de modo prático para cada arquivo de imagem.\n",
        "\n",
        "Por exemplo, para a primeira imagem da lista temos:"
      ],
      "metadata": {
        "id": "ZZ6hSajkIxfp"
      }
    },
    {
      "cell_type": "code",
      "source": [
        "systems = detect(files[0])"
      ],
      "metadata": {
        "id": "39BhyqiHJBSG"
      },
      "execution_count": null,
      "outputs": []
    },
    {
      "cell_type": "markdown",
      "source": [
        "## **Rastreio Utilizando Sobreposição de Áreas**\n",
        "\n",
        "Definida a função `detect` capaz de detectar e extrair os atributos dos SC para cada instante de tempo, vamos agora tratar da **associação** desses elementos no tempo (i.e. **acompanhamento**, **rastreio automático**).\n",
        "\n",
        "A etapa de rastreio é determinar como os objetos de interesse se comportaram no intervalo de tempo ∆t, decorrido\n",
        "entre as duas imagens. Nessa etapa, os processos de detecção e caracterização também são utilizados. Em síntese, o acompanhamento deve ser capaz de determinar quais objetos da observação anterior ainda estão presentes no instante t (associação), além de também identificar novos objetos que surgiram.\n",
        "\n",
        "Como exemplo, o rastreio pode ser realizado a partir da relação topológica entre os SC em conjunto com a análise das áreas de interseção.\n",
        "\n",
        "![https://tathu.readthedocs.io/en/latest/split.merge.html](https://raw.githubusercontent.com/uba/tathu/master/docs/sphinx/img/system-events.png)\n",
        "\n",
        "Situações consideradas durante o acompanhamento dos SC a partir do critério de interseção de área mínima: (a) continuidade, (b) split e (c) merge. As linhas tracejadas representam os sistemas no instante t−∆t.\n",
        "\n",
        "Vamos utilizar o suporte fornecido pelo TATHU para realizar o rastreio considerando imagens de dois instantes de tempo distintos e consecutivos: 00:00 UTC e 00:10 UTC. Vamos utilizar a classe `tracker.OverlapAreaTracker`. Uma sobreposição de pelo menos 10% da área é necessária para associar os SC como sendo o mesmo elemento.\n",
        "\n"
      ],
      "metadata": {
        "id": "OUfvvsUVKxDN"
      }
    },
    {
      "cell_type": "code",
      "source": [
        "from tathu.tracking import trackers\n",
        "\n",
        "# Define overlap area criterion\n",
        "overlapAreaCriterion = 0.1 # 10%\n",
        "\n",
        "systems_00_00_UTC = detect(files[0]) # previous\n",
        "systems_00_10_UTC = detect(files[1]) # current\n",
        "\n",
        "# Create overlap area strategy\n",
        "strategy = trackers.RelativeOverlapAreaStrategy(overlapAreaCriterion)\n",
        "\n",
        "#  Let's track!\n",
        "print('Tracking...')\n",
        "t = trackers.OverlapAreaTracker(systems_00_00_UTC, strategy=strategy)\n",
        "t.track(systems_00_10_UTC)\n",
        "print('done!')\n",
        "\n",
        "# Let's see the defined relations for each current system \n",
        "for system in systems_00_10_UTC:\n",
        "  print(system.event)\n"
      ],
      "metadata": {
        "id": "N9qTiS_8QeGH"
      },
      "execution_count": null,
      "outputs": []
    },
    {
      "cell_type": "markdown",
      "source": [
        "De modo mais geral, podemos realizar o rastreio considerando todo o conjunto de imagens:\n"
      ],
      "metadata": {
        "id": "1yXe-mm7RNI1"
      }
    },
    {
      "cell_type": "code",
      "source": [
        "from tathu.tracking import trackers\n",
        "\n",
        "# List that store detected systems\n",
        "systems = []\n",
        "\n",
        "# Prepare tracking...\n",
        "previous = None\n",
        "\n",
        "# Define overlap area criterion\n",
        "overlapAreaCriterion = 0.1 # 10%\n",
        "\n",
        "# Create overlap area strategy\n",
        "strategy = trackers.RelativeOverlapAreaStrategy(overlapAreaCriterion)\n",
        "\n",
        "# for each image file\n",
        "for f in files:\n",
        "  # Detect current systems\n",
        "  current = detect(f)\n",
        "\n",
        "  # Store\n",
        "  systems.append(current)\n",
        "\n",
        "  if previous is None:\n",
        "    previous = current\n",
        "    continue\n",
        "\n",
        "  # Let's track!\n",
        "  print('Tracking...')\n",
        "  t = trackers.OverlapAreaTracker(previous, strategy=strategy)\n",
        "  t.track(current)\n",
        "  print('done!')\n",
        "\n",
        "  # Prepare next iteration\n",
        "  previous = current"
      ],
      "metadata": {
        "id": "R9R2GBAmLHne"
      },
      "execution_count": null,
      "outputs": []
    },
    {
      "cell_type": "markdown",
      "source": [
        "Aqui, a lista `systems` possui todos os sistemas convectivos rastreados."
      ],
      "metadata": {
        "id": "ahjLeKmKm8za"
      }
    },
    {
      "cell_type": "code",
      "source": [
        "print(systems)"
      ],
      "metadata": {
        "id": "jS4vwSTXm7G7"
      },
      "execution_count": null,
      "outputs": []
    },
    {
      "cell_type": "markdown",
      "source": [
        "# **Serialização dos Resultados**\n",
        "\n",
        "Neste ponto, uma lista de objetos de interesse (SC) está definida e temos ela somente em memória. Veremos agora como serializar (*i.e.* salvar) esse resultado utilizando diferentes abordagens fornecidas pelo TATHU."
      ],
      "metadata": {
        "id": "W9cvjURAonKm"
      }
    },
    {
      "cell_type": "markdown",
      "source": [
        "### GeoPandas DataFrame\n",
        "\n",
        "![https://geopandas.org/en/stable/index.html](https://geopandas.org/en/stable/_static/geopandas_logo_web.svg\n",
        ")\n",
        "\n",
        "[GeoPandas](https://geopandas.org/en/stable/index.html) é um projeto de código aberto para facilitar o trabalho com dados geoespaciais em Python.\n",
        "\n",
        "TATHU fornece suporte para exportar os resultados utilizando os conceitos propostos e implementados no pacote GeoPandas. Para isso, vamos utilizar o módulo específico `tathu.io.dataframe`.\n"
      ],
      "metadata": {
        "id": "iJyygsCapEkU"
      }
    },
    {
      "cell_type": "code",
      "source": [
        "from tathu.io import dataframe\n",
        "\n",
        "# Convert result to GeoPandas DataFrame\n",
        "outputter = dataframe.Outputter()\n",
        "\n",
        "# for each list of systems, output to DataFrame\n",
        "for item in systems:\n",
        "  outputter.output(item)"
      ],
      "metadata": {
        "id": "O5rVAenEqRa1"
      },
      "execution_count": null,
      "outputs": []
    },
    {
      "cell_type": "markdown",
      "source": [
        "Verificando o `DataFrame`:"
      ],
      "metadata": {
        "id": "LFnizFlE5raC"
      }
    },
    {
      "cell_type": "code",
      "source": [
        "outputter.gdf"
      ],
      "metadata": {
        "id": "U5mXsVjd5wCY"
      },
      "execution_count": null,
      "outputs": []
    },
    {
      "cell_type": "markdown",
      "source": [
        "As colunas são:\n",
        "\n",
        "- `name`: identificado da família\n",
        "- `timestamp`: data do sistema\n",
        "- `event`: classificação do sistema\n",
        "  - `SPONTANEOUS_GENERATION`: geração espontânea\n",
        "  - `CONTINUITY`: continuidade\n",
        "  - `MERGE`: fusão\n",
        "  - `SPLIT`: separação\n",
        "- `min`: temperatura de brilho (Tb) mínima do sistema (K)\n",
        "- `mean`: Tb média do sistema (K)\n",
        "- `count`: tamanho (em pixels) do sistema\n",
        "- `std`: desvio-padrão de Tb do sistema\n",
        "- `relationships`: relação entre famílias quando há fusão/separação\n",
        "- `geometry`: limites geográficos do sistema"
      ],
      "metadata": {
        "id": "efNf-qYl550w"
      }
    },
    {
      "cell_type": "markdown",
      "source": [
        "Podemos visualizar os sistemas convectivos utilizando o suporte fornecido pelo `GeoPandas`:"
      ],
      "metadata": {
        "id": "9wQSzrez6Ppk"
      }
    },
    {
      "cell_type": "code",
      "source": [
        "# Show result\n",
        "outputter.gdf.plot(figsize=(5, 5), alpha=0.5, edgecolor='k')\n",
        "plt.show()"
      ],
      "metadata": {
        "id": "MLuFiHSY6LYH"
      },
      "execution_count": null,
      "outputs": []
    },
    {
      "cell_type": "markdown",
      "source": [
        "Também exportar o resultado para um arquivo em disco, no formato [GeoPackage](https://www.geopackage.org/), por exemplo. \n",
        "\n",
        "*Nota: Todos os formatos suportados pelo GeoPandas podem ser utilizados. Veja na documentação do método [geopandas.GeoDataFrame.to_file](https://geopandas.org/en/stable/docs/reference/api/geopandas.GeoDataFrame.to_file.html).*"
      ],
      "metadata": {
        "id": "EOMP4pf86hI0"
      }
    },
    {
      "cell_type": "code",
      "source": [
        "import os\n",
        "path = '/content'\n",
        "os.chdir(path)\n",
        "\n",
        "# Export dataframe to geo-package\n",
        "outputter.gdf.to_file('systems.gpkg', driver='GPKG', layer='systems')"
      ],
      "metadata": {
        "id": "Ia3bzwU76pZl"
      },
      "execution_count": null,
      "outputs": []
    },
    {
      "cell_type": "markdown",
      "source": [
        "### SpatiaLite\n",
        "\n",
        "‎| ‎ \n",
        "-------------------|------------------\n",
        "![https://www.gaia-gis.it/fossil/libspatialite/index](https://www.gaia-gis.it/fossil/libspatialite/logo)      | ![www.sqlite.org](https://www.sqlite.org/images/sqlite370_banner.gif) **negrito**\n",
        "\n",
        "[SpatiaLite](https://www.gaia-gis.it/fossil/libspatialite/index) é uma biblioteca de código aberta, com o objetivo de estender o **banco de dados** [SQLite](https://www.sqlite.org/index.html) para oferecer **suporte espacial**. Esses bancos de dados com suporte espacial possuem a capacidade de armazenar **atributos tabulares** em conjunto com a **representação espacial** dos objetos, permitindo a construção de diferentes funcionalidades e modos de consulta. A partir do armazenamento dos resultados nesse tipo de estrutura, consegue-se realizar consultas espaço-temporais de modo bastante eficiente.\n",
        "\n",
        "TATHU oferece suporte para exportarmos os resultados para esse tipo de banco de dados. Para isso, vamos utilizar o módulo específico `tathu.io.spatialite`. O banco de dados será armazenado em um arquivo em disco chamado `systems-db.sqlite`.\n"
      ],
      "metadata": {
        "id": "Oke_nT5l7r8D"
      }
    },
    {
      "cell_type": "code",
      "source": [
        "from tathu.io import spatialite\n",
        "\n",
        "# Create database connection\n",
        "db = spatialite.Outputter('systems-db.sqlite', 'systems', attrs)\n",
        "\n",
        "# for each list of systems, output to SpatiaLite Database\n",
        "for item in systems:\n",
        "  db.output(item)"
      ],
      "metadata": {
        "id": "Yyq79Gx2_aL4"
      },
      "execution_count": null,
      "outputs": []
    },
    {
      "cell_type": "markdown",
      "source": [
        "### PostGIS\n",
        "\n",
        "![https://postgis.net/](https://postgis.net/logos/postgis-logo.png)\n",
        "\n",
        "[PostGIS](https://postgis.net/) é uma extensão espacial para banco de dados objeto-relacional [PostgreSQL](https://www.postgresql.org/). A extensão adiciona suporte para objetos geográficos, permitindo que consultas espaciais sejam executadas em SQL.\n",
        "\n",
        "TATHU oferece suporte para exportarmos os resultados para esse tipo de banco de dados (PostGIS). Para isso, vamos utilizar o módulo específico `tathu.io.pgis`.\n",
        "\n",
        "***Nota: por estarmos no ambiente Colab, não vamos realizar de fato a materialização dos resultados no PostgreSQL.***"
      ],
      "metadata": {
        "id": "czZw6aYPAOW3"
      }
    },
    {
      "cell_type": "code",
      "source": [
        "from tathu.io import pgis\n",
        "\n",
        "# Create database connection\n",
        "db = pgis.Outputter('localhost', 'tathu_db',\n",
        "                    'postgres', 'my_secret_password', \n",
        "                    'systems', attrs)\n",
        "\n",
        "# for each list of systems, output to PostGIS Database\n",
        "for item in systems:\n",
        "  db.output(item)"
      ],
      "metadata": {
        "id": "ZkajhUL7Cm-l"
      },
      "execution_count": null,
      "outputs": []
    },
    {
      "cell_type": "markdown",
      "source": [
        "# **Leitura e Exploração dos Resultados**\n",
        "\n",
        "Neste ponto, temos salvos em diferentes formatos os resultados obtidos no rastreio dos sistemas convectivos. Esta seção apresenta exemplos de como podemos ler e explorar os dados utilizando o suporte SQL e as operações espaciais.  "
      ],
      "metadata": {
        "id": "6W_Uo5nIBXPe"
      }
    },
    {
      "cell_type": "markdown",
      "source": [
        "### GeoPackage + GeoPandas\n",
        "\n",
        "Incialmente, realizamos a leitura do arquivo GeoPackage (.gpkg) criado anteriormente e a visualizamos os dados no formato de tabela."
      ],
      "metadata": {
        "id": "ecB3M3c4DcJf"
      }
    },
    {
      "cell_type": "code",
      "source": [
        "import pandas as pd\n",
        "import geopandas as gpd\n",
        "\n",
        "systems = gpd.read_file('./systems.gpkg')\n",
        "systems['timestamp'] = [pd.to_datetime(i) for i in systems['timestamp']]\n",
        "systems"
      ],
      "metadata": {
        "id": "Jtl2gBYFhq4x"
      },
      "execution_count": null,
      "outputs": []
    },
    {
      "cell_type": "markdown",
      "source": [
        "A partir do dataframe `systems`, é possível analisar diversas características das famílias de sistemas convectivos e responder perguntas como:\n",
        "\n",
        "- Quantas famílias foram identificadas no período?\n",
        "- Qual é a duração mínima/média/máxima das famílias?\n",
        "- Qual é a temperatura de brilho mínima mínima/média/máxima das famílias?\n",
        "- Qual é a área máxima mínima/média/máxima das famílias?\n",
        "- Quantas famílias se fundiram/se separaram ao longo do ciclo de vida?"
      ],
      "metadata": {
        "id": "c04uTNGpiXoa"
      }
    },
    {
      "cell_type": "markdown",
      "source": [
        "#### Quantas famílias foram identificadas no período?\n",
        "\n",
        "Para saber sobre as famílias, precisamos usar a coluna `name`:"
      ],
      "metadata": {
        "id": "N2oF4w5LiiAJ"
      }
    },
    {
      "cell_type": "code",
      "source": [
        "systems['name']"
      ],
      "metadata": {
        "id": "vgYSWW1jiowQ"
      },
      "execution_count": null,
      "outputs": []
    },
    {
      "cell_type": "markdown",
      "source": [
        "Como uma família pode ter vários passos de tempo, precisamos filtrar os nomes que se repetem com `np.unique()`. Essa função gera uma lista, portanto para saber o tamanho dela basta usar a função `len()`:"
      ],
      "metadata": {
        "id": "CHhHe1Q_itQh"
      }
    },
    {
      "cell_type": "code",
      "source": [
        "import numpy as np\n",
        "num_fams = len(np.unique(systems['name']))\n",
        "print('Total de famílias', num_fams)"
      ],
      "metadata": {
        "id": "RgZk-VfPi0cP"
      },
      "execution_count": null,
      "outputs": []
    },
    {
      "cell_type": "markdown",
      "source": [
        "Lembrando que o número total de objetos individuais detectados pode ser calculado a partir de:"
      ],
      "metadata": {
        "id": "4gA-QQJyjRDV"
      }
    },
    {
      "cell_type": "code",
      "source": [
        "len(systems['name'])"
      ],
      "metadata": {
        "id": "0LYMNRJkjYV2"
      },
      "execution_count": null,
      "outputs": []
    },
    {
      "cell_type": "markdown",
      "source": [
        "#### Qual é a duração mínima/média/máxima das famílias?\n",
        "\n",
        "Para saber a duração das famílias, precisamos agrupar em função da família (`name`) e somar as diferenças (`.diff()`) entre tempos (`timestamps`) de cada família."
      ],
      "metadata": {
        "id": "Jj1S079Yjsv-"
      }
    },
    {
      "cell_type": "code",
      "source": [
        "# Diferenças de tempo por família\n",
        "systems['diff'] = systems.sort_values(['name','timestamp']).groupby('name')['timestamp'].diff().astype('timedelta64[m]') # em minutos\n",
        "\n",
        "# Calculando a duração somando as diferenças\n",
        "dur_fams = systems.groupby('name')[\"diff\"].sum() + 10  # diferença = 0: família durou 10 minutos\n",
        "dur_fams"
      ],
      "metadata": {
        "id": "xbsz4gGbj9UQ"
      },
      "execution_count": null,
      "outputs": []
    },
    {
      "cell_type": "markdown",
      "source": [
        "A partir da duração, é possível saber a mínima/média/máxima:"
      ],
      "metadata": {
        "id": "WZqIdZ3XkQVh"
      }
    },
    {
      "cell_type": "code",
      "source": [
        "print('Duração mínima:', np.min(dur_fams), 'min')\n",
        "print('Duração média:', np.round(np.mean(dur_fams), 2), 'min')\n",
        "print('Duração máxima:', np.max(dur_fams), 'min')"
      ],
      "metadata": {
        "id": "2WwnyLu7kRLh"
      },
      "execution_count": null,
      "outputs": []
    },
    {
      "cell_type": "markdown",
      "source": [
        "Representando a partir de um histograma, temos:"
      ],
      "metadata": {
        "id": "6dNnFwJEke13"
      }
    },
    {
      "cell_type": "code",
      "source": [
        "hist = plt.hist(dur_fams, bins=36)  # bins a cada 30 min\n",
        "plt.title('Duração das famílias')\n",
        "plt.xlabel('Duração (min)')\n",
        "plt.ylabel('Frequência')"
      ],
      "metadata": {
        "id": "gcHAtrpfkjbX"
      },
      "execution_count": null,
      "outputs": []
    },
    {
      "cell_type": "markdown",
      "source": [
        "#### Qual é a temperatura de brilho mínima mínima/média/máxima das famílias?\n",
        "\n",
        "Uma lógica parecida é aplicada aqui: precisamos agrupar em função da família (`name`) e achar a **menor** temperatura de brilho mínima (`min`) de cada família para então calcular a mínima/média/máxima."
      ],
      "metadata": {
        "id": "WzbpWfHtkzF3"
      }
    },
    {
      "cell_type": "code",
      "source": [
        "# Tb mínima de cada família\n",
        "tbmin_fams = systems.groupby('name')['min'].min()\n",
        "\n",
        "print('Mínima da menor Tb mínima:', np.min(tbmin_fams), 'K')\n",
        "print('Média da menor Tb mínima:', np.round(np.mean(tbmin_fams), 2), 'K')\n",
        "print('Máxima da menor Tb mínima:', np.max(tbmin_fams), 'K')"
      ],
      "metadata": {
        "id": "5hHeUfgbk83r"
      },
      "execution_count": null,
      "outputs": []
    },
    {
      "cell_type": "markdown",
      "source": [
        "Colocando em um histograma:"
      ],
      "metadata": {
        "id": "6jyVqm47lJhT"
      }
    },
    {
      "cell_type": "code",
      "source": [
        "hist = plt.hist(tbmin_fams, bins=range(180, 240, 5))\n",
        "plt.title('Tb mínima das famílias')\n",
        "plt.xlabel('Temperatura de brilho (K)')\n",
        "plt.ylabel('Frequência')"
      ],
      "metadata": {
        "id": "d4w5U6fVlKTN"
      },
      "execution_count": null,
      "outputs": []
    },
    {
      "cell_type": "markdown",
      "source": [
        "#### Quantas famílias se fundiram/se separaram ao longo do ciclo de vida?\n",
        "\n",
        "Neste caso, precisamos primeiro filtrar os casos (`event`) de fusão (`MERGE`) e separação (`SPLIT`) para então selecionar as famílias correspondentes."
      ],
      "metadata": {
        "id": "Usc-LlPhlZYS"
      }
    },
    {
      "cell_type": "code",
      "source": [
        "# Proporção de tipos de eventos\n",
        "systems.groupby('event')['event'].count()"
      ],
      "metadata": {
        "id": "ajFYTAE6lcr-"
      },
      "execution_count": null,
      "outputs": []
    },
    {
      "cell_type": "code",
      "source": [
        "# Selecionando linhas com merge/split\n",
        "mergesplit_fams = systems.loc[systems['event'].isin(['MERGE', 'SPLIT'])]['name'].reset_index(drop=True)\n",
        "mergesplit_fams"
      ],
      "metadata": {
        "id": "0tGqPczAlrbJ"
      },
      "execution_count": null,
      "outputs": []
    },
    {
      "cell_type": "code",
      "source": [
        "print('Famílias com fusão/separação:', len(np.unique(mergesplit_fams)))\n",
        "print('Total de famílias:', num_fams)"
      ],
      "metadata": {
        "id": "UuD8KgXblu1l"
      },
      "execution_count": null,
      "outputs": []
    },
    {
      "cell_type": "markdown",
      "source": [
        "### Conectando no SpatiaLite\n",
        "\n",
        "Agora, vamos realizar a conexão com o banco de dados  `SpatiaLite` gerado anteriormente (`/content/systems-db.sqlite`).\n",
        "\n",
        "Este banco de dados possui o mesmo conteúdo do arquivo `GeoPackage` gerado pelo `GeoPandas`.\n",
        "\n",
        "A vantagem é que esse formato de base de dados tem uma linguagem própria ([SQL](https://pt.wikipedia.org/wiki/SQL)) que permite buscas e relações mais eficientes (principalmente em bases muito grandes) do que outras linguagens de programação.\n",
        "\n",
        "Nota: Não iremos entrar em detalhes sobre SQL nesse notebook, apenas usaremos essa base em alguns módulos de visualização do TATHU."
      ],
      "metadata": {
        "id": "0clU9KuODNdz"
      }
    },
    {
      "cell_type": "code",
      "source": [
        "from tathu.io import spatialite\n",
        "\n",
        "# Informações sobre a base de dados\n",
        "dbname = '/content/systems-db.sqlite'\n",
        "table = 'systems'\n",
        "\n",
        "# Conectando a base de dados\n",
        "tathu_db = spatialite.Loader(dbname, table)"
      ],
      "metadata": {
        "id": "Y6t0Ml7rnlQ0"
      },
      "execution_count": null,
      "outputs": []
    },
    {
      "cell_type": "markdown",
      "source": [
        "Estabelecida a conexão com a base de dados, podemos realizar a leitura dos dados a partir do suporte oferecido pelo TATHU com os métodos da classe `spatialite.Loader`.\n",
        "\n",
        "Por exemplo, fazemos a leitura do nome das famílias de sistemas:"
      ],
      "metadata": {
        "id": "yOAQUPk6oUFj"
      }
    },
    {
      "cell_type": "code",
      "source": [
        "names = tathu_db.loadNames()\n",
        "print(names)"
      ],
      "metadata": {
        "id": "OZAba9xjol2y"
      },
      "execution_count": null,
      "outputs": []
    },
    {
      "cell_type": "markdown",
      "source": [
        "#### Seleção por tempo de duração\n",
        "\n",
        "A partir de outros métodos, podemos selecionar de modo eficiente famílias que tiveram determinado tempo de duração.\n",
        "\n",
        "Por exemplo, vamos selecionar as que tiveram entre 2 e 3h de duração (*i.e.* não muito curtas nem muito longas) usando a base de dados SQLite, com o método `loadByInterval`:"
      ],
      "metadata": {
        "id": "QY_aTpwFo5Ze"
      }
    },
    {
      "cell_type": "code",
      "source": [
        "fams = tathu_db.loadByInterval(2, 3)\n",
        "for name in fams:\n",
        "  print('Name:', name)"
      ],
      "metadata": {
        "id": "spZ69keEpVti"
      },
      "execution_count": null,
      "outputs": []
    },
    {
      "cell_type": "markdown",
      "source": [
        "Conhecido o nome das família, podemos carregar a  história de uma família específica a partir do método `load`. \n",
        "\n",
        "Neste exemplo simples, vamos obter as informações da primeira família da lista das que tiveram tempo de duração entre 2-3h. No caso, também estamos interessados em obter os atributos `['min', 'mean', 'std', 'count']`."
      ],
      "metadata": {
        "id": "4Ctpgx9zpztZ"
      }
    },
    {
      "cell_type": "code",
      "source": [
        "fam = tathu_db.load(fams[0], ['min', 'mean', 'std', 'count'])"
      ],
      "metadata": {
        "id": "D8DNgRSpqQp1"
      },
      "execution_count": null,
      "outputs": []
    },
    {
      "cell_type": "markdown",
      "source": [
        "#### Visualizando espacialmente a evolução de um SC\n",
        "\n",
        "TATHU fornece suporte para visualização espacial dos sistemas convectivos, a partir do módulo `tathu.visualizer`. Neste caso, vamos visualizar a história do sistema convectivo a partir da classe `visualizer.SystemHistoryView`:"
      ],
      "metadata": {
        "id": "VBBu23BGqjUl"
      }
    },
    {
      "cell_type": "code",
      "source": [
        "from tathu import visualizer \n",
        "view = visualizer.SystemHistoryView(fam)\n",
        "view.show()"
      ],
      "metadata": {
        "id": "vAY-rp4Eqr_T"
      },
      "execution_count": null,
      "outputs": []
    },
    {
      "cell_type": "markdown",
      "source": [
        "Podemos também visualizar, a partir de uma animação, a evolução da temperatura de brilho mínima e tamanho (em pixels) com a classe `visualizer.AnimationMap()`:"
      ],
      "metadata": {
        "id": "fJI6LZQorRsa"
      }
    },
    {
      "cell_type": "code",
      "source": [
        "from matplotlib import rc\n",
        "rc('animation', html='jshtml')\n",
        "\n",
        "animation = visualizer.AnimationMap(fam, ['min', 'count'])\n",
        "plt.close()\n",
        "animation"
      ],
      "metadata": {
        "id": "_zZ6baSMrisI"
      },
      "execution_count": null,
      "outputs": []
    }
  ],
  "metadata": {
    "colab": {
      "private_outputs": true,
      "provenance": [],
      "toc_visible": true,
      "include_colab_link": true
    },
    "kernelspec": {
      "display_name": "env-tathu",
      "language": "python",
      "name": "python3"
    },
    "language_info": {
      "name": "python",
      "version": "3.10.5 | packaged by conda-forge | (main, Jun 14 2022, 06:57:19) [MSC v.1929 64 bit (AMD64)]"
    },
    "vscode": {
      "interpreter": {
        "hash": "a4df6fb41f4f12cdafb21ca4516cea769b5115ff19d694397fc74b9938a69f7a"
      }
    }
  },
  "nbformat": 4,
  "nbformat_minor": 0
}