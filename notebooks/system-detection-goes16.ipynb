{
  "nbformat": 4,
  "nbformat_minor": 0,
  "metadata": {
    "colab": {
      "private_outputs": true,
      "provenance": [],
      "collapsed_sections": [
        "eUBWW5Dnptkd",
        "SafNSUNKrwij",
        "Kq3mFqaIs0Px"
      ],
      "toc_visible": true,
      "authorship_tag": "ABX9TyMavOLMNo1KpUMoodjrjgjA",
      "include_colab_link": true
    },
    "kernelspec": {
      "name": "python3",
      "display_name": "Python 3"
    },
    "language_info": {
      "name": "python"
    }
  },
  "cells": [
    {
      "cell_type": "markdown",
      "metadata": {
        "id": "view-in-github",
        "colab_type": "text"
      },
      "source": [
        "<a href=\"https://colab.research.google.com/github/uba/tathu/blob/master/notebooks/system-detection-goes16.ipynb\" target=\"_parent\"><img src=\"https://colab.research.google.com/assets/colab-badge.svg\" alt=\"Open In Colab\"/></a>"
      ]
    },
    {
      "cell_type": "markdown",
      "source": [
        "# **Instalação TATHU - Tracking and Analysis of Thunderstorms**\n",
        "\n",
        "![https://github.com/uba/tathu](https://raw.githubusercontent.com/uba/tathu/master/docs/sphinx/img/logo-tathu.png)\n",
        "\n"
      ],
      "metadata": {
        "id": "jVKnu7kuOp2p"
      }
    },
    {
      "cell_type": "markdown",
      "source": [
        "O código abaixo instala o pacote **condacolab** e reinicia o ambiente automaticamente. \n",
        "\n",
        "Nota: não é necessário rodar esse bloco novamente."
      ],
      "metadata": {
        "id": "xXLbPJjdOceh"
      }
    },
    {
      "cell_type": "code",
      "execution_count": null,
      "metadata": {
        "id": "3O7Jh7sVLMcS"
      },
      "outputs": [],
      "source": [
        "!pip install -q condacolab\n",
        "import condacolab\n",
        "condacolab.install()"
      ]
    },
    {
      "cell_type": "markdown",
      "source": [
        " Instalação dos pacotes necessários:"
      ],
      "metadata": {
        "id": "M7fLB7AgPLIu"
      }
    },
    {
      "cell_type": "code",
      "source": [
        "!conda config --add channels conda-forge\n",
        "!conda config --set channel_priority strict\n",
        "!mamba install -c conda-forge aenum cartopy geopandas netcdf4 opencv pathos psycopg2 pyproj rasterstats requests rtree s3fs scikit-image scipy tqdm\n",
        "!pip install pyyaml==5.4.1"
      ],
      "metadata": {
        "id": "LM-GYguGLiC7"
      },
      "execution_count": null,
      "outputs": []
    },
    {
      "cell_type": "markdown",
      "source": [
        "Instalação do TATHU a partir do repositório oficial:"
      ],
      "metadata": {
        "id": "dpVYsIaGPfbp"
      }
    },
    {
      "cell_type": "code",
      "source": [
        "!git clone https://github.com/uba/tathu.git"
      ],
      "metadata": {
        "id": "LmjGGR1OManz"
      },
      "execution_count": null,
      "outputs": []
    },
    {
      "cell_type": "code",
      "source": [
        "%cd tathu/\n",
        "!python -m pip install --no-deps ."
      ],
      "metadata": {
        "id": "c8QKDiREMeBB"
      },
      "execution_count": null,
      "outputs": []
    },
    {
      "cell_type": "markdown",
      "source": [
        "Verificando a instalação:"
      ],
      "metadata": {
        "id": "jBiHLnVgPp0y"
      }
    },
    {
      "cell_type": "code",
      "source": [
        "import tathu\n",
        "print('Version', tathu.__version__)\n",
        "\n",
        "from tathu.logo import TATHU_BANNER\n",
        "print(TATHU_BANNER)"
      ],
      "metadata": {
        "id": "aNQ0p_fyMgah"
      },
      "execution_count": null,
      "outputs": []
    },
    {
      "cell_type": "markdown",
      "source": [
        "# **Download Canal 13 Full-Disk - GOES-16**"
      ],
      "metadata": {
        "id": "eUBWW5Dnptkd"
      }
    },
    {
      "cell_type": "code",
      "source": [
        "from datetime import datetime\n",
        "from tathu.downloader.goes import AWS\n",
        "from tathu.progress import TqdmProgress\n",
        "\n",
        "# Download 26 October 2022, Channel 13, [00] hours UTC\n",
        "start = end = datetime.strptime('20221026', '%Y%m%d')\n",
        "hours = ['00']\n",
        "\n",
        "# From AWS (full-disk)\n",
        "AWS.download(AWS.buckets['GOES-16'], ['ABI-L2-CMIPF'],\n",
        "    start, end, hours, ['13'], './goes16-aws',\n",
        "    progress=TqdmProgress('Download GOES-16 data (AWS)', 'files'))"
      ],
      "metadata": {
        "id": "4-alRP6Vp7zw"
      },
      "execution_count": null,
      "outputs": []
    },
    {
      "cell_type": "markdown",
      "source": [
        "# **Visualização Canal 13 Full-Disk - GOES-16**"
      ],
      "metadata": {
        "id": "SafNSUNKrwij"
      }
    },
    {
      "cell_type": "code",
      "source": [
        "import matplotlib.pyplot as plt\n",
        "from netCDF4 import Dataset\n",
        "\n",
        "path = '/content/tathu/goes16-aws/noaa-goes16/ABI-L2-CMIPF/2022/299/00/OR_ABI-L2-CMIPF-M6C13_G16_s20222990000206_e20222990009525_c20222990010007.nc'\n",
        "\n",
        "# Open netCDF file and show full-disk data\n",
        "nc = Dataset(path)\n",
        "data = nc.variables['CMI'][:]\n",
        "plt.imshow(data, cmap='Greys', vmin=180.0, vmax=320.0)\n",
        "plt.colorbar()\n",
        "nc.close()"
      ],
      "metadata": {
        "id": "XH-E1dgXr3Wk"
      },
      "execution_count": null,
      "outputs": []
    },
    {
      "cell_type": "markdown",
      "source": [
        "# **Remapeamento para Grade Regular**"
      ],
      "metadata": {
        "id": "Kq3mFqaIs0Px"
      }
    },
    {
      "cell_type": "code",
      "source": [
        "from osgeo import gdal\n",
        "\n",
        "from tathu.constants import LAT_LONG_WGS84_SOUTH_AMERICA_EXTENT, LAT_LON_WGS84\n",
        "from tathu.satellite import goes16\n",
        "\n",
        "# Geographic area of regular grid\n",
        "extent = LAT_LONG_WGS84_SOUTH_AMERICA_EXTENT\n",
        "\n",
        " # Grid resolution (kilometers)\n",
        "resolution = 2.0\n",
        "\n",
        "print('Remapping')\n",
        "grid = goes16.sat2grid(path, extent, resolution, LAT_LON_WGS84, 'HDF5', progress=gdal.TermProgress_nocb)\n",
        "\n",
        "# Visualize regular grid result\n",
        "from tathu.visualizer import MapView\n",
        "\n",
        "m = MapView(extent)\n",
        "m.plotImage(grid, cmap='Greys', vmin=180.0, vmax=320.0)\n",
        "m.show()\n"
      ],
      "metadata": {
        "id": "ihWu7nAWtYzA"
      },
      "execution_count": null,
      "outputs": []
    },
    {
      "cell_type": "markdown",
      "source": [
        "# **Detecção dos Sistemas Convectivos**"
      ],
      "metadata": {
        "id": "_O2I2j-yuYt8"
      }
    },
    {
      "cell_type": "markdown",
      "source": [
        "Definição dos parâmetros para deteção, incluindo valor máximo de temperatura de brilho (235K) e área mínima (3000km2): "
      ],
      "metadata": {
        "id": "2R_lsOIyuoTU"
      }
    },
    {
      "cell_type": "code",
      "source": [
        "from tathu.tracking.utils import area2degrees\n",
        "\n",
        "# Threshold value\n",
        "threshold = 235 # Kelvin\n",
        "    \n",
        "# Define minimum area\n",
        "minarea = 3000 # km^2\n",
        "\n",
        "# Convert to degrees^2\n",
        "minarea = area2degrees(minarea)"
      ],
      "metadata": {
        "id": "u7lEmVOductg"
      },
      "execution_count": null,
      "outputs": []
    },
    {
      "cell_type": "markdown",
      "source": [
        "Detecção utilizando processo de limiarização a partir da classe `detector.LessThan`:"
      ],
      "metadata": {
        "id": "7Bve5TVQvIrs"
      }
    },
    {
      "cell_type": "code",
      "source": [
        "from tathu.tracking import detectors\n",
        "\n",
        "# Create detector\n",
        "detector = detectors.LessThan(threshold, minarea)\n",
        "\n",
        "# Searching for systems\n",
        "print('Searching for systems...')\n",
        "systems = detector.detect(grid)\n",
        "print('# Number of detected systems:', len(systems))"
      ],
      "metadata": {
        "id": "pcBIMOWBvYYN"
      },
      "execution_count": null,
      "outputs": []
    },
    {
      "cell_type": "markdown",
      "source": [
        "Visualização dos sistemas convectivos detectados:"
      ],
      "metadata": {
        "id": "tgWwATPFv_B3"
      }
    },
    {
      "cell_type": "code",
      "source": [
        "m = MapView(extent)\n",
        "m.plotImage(grid, cmap='Greys', vmin=180.0, vmax=320.0)\n",
        "m.plotSystems(systems, facecolor='none', edgecolor='red', centroids=False)\n",
        "m.show()"
      ],
      "metadata": {
        "id": "RZRY1xZMwCrT"
      },
      "execution_count": null,
      "outputs": []
    },
    {
      "cell_type": "markdown",
      "source": [
        "# **Extração de Atributos dos Sistemas Convectivos**"
      ],
      "metadata": {
        "id": "gY1CXYfVw5is"
      }
    },
    {
      "cell_type": "markdown",
      "source": [
        "Definição dos atributos que serão extraídos, incluindo valor mínimo, média, desvio padrão e número de pixels.\n",
        "\n"
      ],
      "metadata": {
        "id": "s6itgA_fxDuh"
      }
    },
    {
      "cell_type": "code",
      "source": [
        "# Attributes that will be computed\n",
        "attrs = ['min', 'mean', 'std', 'count']"
      ],
      "metadata": {
        "id": "EyVjF4BoxDjE"
      },
      "execution_count": null,
      "outputs": []
    },
    {
      "cell_type": "markdown",
      "source": [
        "Extração de atributos utilizando a classe `descriptors.StatisticalDescriptor`:"
      ],
      "metadata": {
        "id": "2cUfJaFFxipQ"
      }
    },
    {
      "cell_type": "code",
      "source": [
        "from tathu.tracking import descriptors\n",
        "\n",
        "# Create statistical descriptor\n",
        "descriptor = descriptors.StatisticalDescriptor(rasterOut=True)\n",
        "\n",
        "# Describe systems (stats)\n",
        "descriptor.describe(grid, systems)\n",
        "\n",
        "# Silence some warnings in order to improve visualization\n",
        "import warnings\n",
        "from shapely.errors import ShapelyDeprecationWarning\n",
        "warnings.filterwarnings('ignore', category=ShapelyDeprecationWarning) \n",
        "\n",
        "# Visualize attributes\n",
        "for s in systems:\n",
        "  print(s.name, s.attrs)"
      ],
      "metadata": {
        "id": "1nxLq5KRx0WK"
      },
      "execution_count": null,
      "outputs": []
    }
  ]
}
